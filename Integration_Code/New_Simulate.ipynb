{
 "cells": [
  {
   "cell_type": "code",
   "execution_count": 1,
   "metadata": {},
   "outputs": [],
   "source": [
    "from __future__ import print_function\n",
    "import numpy as np\n",
    "import matplotlib.pyplot as plt\n",
    "import pyroomacoustics as pra\n",
    "from scipy.io import wavfile\n",
    "from scipy.io import savemat\n",
    "from scipy.signal import correlate\n",
    "import IPython\n",
    "import heapq"
   ]
  },
  {
   "cell_type": "code",
   "execution_count": 2,
   "metadata": {},
   "outputs": [
    {
     "data": {
      "image/png": "[encoded data removed]",
      "text/plain": [
       "<Figure size 432x288 with 1 Axes>"
      ]
     },
     "metadata": {
      "needs_background": "light"
     },
     "output_type": "display_data"
    },
    {
     "name": "stdout",
     "output_type": "stream",
     "text": [
      "(57040,)\n"
     ]
    }
   ],
   "source": [
    "#uni_white_noise = np.random.uniform(-1,1,57040)\n",
    "uni_white_noise = np.random.uniform(-0.01,0.01,57040)\n",
    "uni_white_noise[28520] = 1\n",
    "\n",
    "plt.plot(uni_white_noise)\n",
    "plt.show()\n",
    "print(uni_white_noise.shape)"
   ]
  },
  {
   "cell_type": "code",
   "execution_count": 78,
   "metadata": {},
   "outputs": [],
   "source": [
    "def get_rir(size='medium', absorption='medium', order = 0):\n",
    "    if absorption=='high':\n",
    "        absor = 0.9\n",
    "    elif absorption=='medium':\n",
    "        absor = 0.3\n",
    "    elif absorption=='low':\n",
    "        absor = 0.0\n",
    "    else:\n",
    "        raise ValueError(\"The absorption parameter can only take values ['low', 'medium', 'high']\")\n",
    "    \n",
    "    if size=='large':\n",
    "        size_coef = 5.\n",
    "    elif size=='medium':\n",
    "        size_coef = 2.5\n",
    "    elif size=='small':\n",
    "        size_coef = 1.\n",
    "    else:\n",
    "        raise ValueError(\"The size parameter can only take values ['small', 'medium', 'large']\")\n",
    "        \n",
    "        \n",
    "    pol = size_coef * np.array([[0,0], [0,1.40], [2.00,1.40], [2.00,0]]).T\n",
    "    room = pra.Room.from_corners(pol, fs=16000, max_order=order, absorption=absor)\n",
    "\n",
    "    # Create the 3D room by extruding the 2D by a specific height\n",
    "    room.extrude(size_coef * 5 *0.18, absorption=absor)\n",
    "\n",
    "    # Adding the source\n",
    "    room.add_source(size_coef * 5 * np.array([0.09, 0.07, 0.03]), signal=uni_white_noise)\n",
    "\n",
    "    # Adding the microphones\n",
    "    R = size_coef * 5 * np.array([[0.11, 0.05, 0.03], \n",
    "                              [0.11, 0.06, 0.03], \n",
    "                              [0.11, 0.07, 0.03], \n",
    "                              [0.11, 0.08, 0.03], \n",
    "                              [0.11, 0.09, 0.03],\n",
    "                              [0.12, 0.05, 0.03],\n",
    "                              [0.12, 0.06, 0.03],\n",
    "                              [0.12, 0.07, 0.03],\n",
    "                              [0.12, 0.08, 0.03],\n",
    "                              [0.12, 0.09, 0.03]])\n",
    "    R = np.transpose(R)\n",
    "    room.add_microphone_array(pra.MicrophoneArray(R, room.fs))\n",
    "\n",
    "    # Compute the RIR\n",
    "    room.compute_rir()\n",
    "\n",
    "    room.simulate()\n",
    "    room.mic_array.to_wav('aaa.wav', norm=True, bitdepth=np.int16)\n",
    "    \n",
    "    # Display the audio file\n",
    "    #fs_result, result = wavfile.read('aaa.wav')\n",
    "    #IPython.display.display(IPython.display.Audio(result, rate=fs_result))\n",
    "    \n",
    "    return room.rir"
   ]
  },
  {
   "cell_type": "code",
   "execution_count": 79,
   "metadata": {},
   "outputs": [
    {
     "name": "stdout",
     "output_type": "stream",
     "text": [
      "(10, 1)\n"
     ]
    },
    {
     "data": {
      "image/png": "[encoded data removed]",
      "text/plain": [
       "<Figure size 432x288 with 1 Axes>"
      ]
     },
     "metadata": {
      "needs_background": "light"
     },
     "output_type": "display_data"
    },
    {
     "data": {
      "image/png": "[encoded data removed]",
      "text/plain": [
       "<Figure size 432x288 with 1 Axes>"
      ]
     },
     "metadata": {
      "needs_background": "light"
     },
     "output_type": "display_data"
    }
   ],
   "source": [
    "rir_small = get_rir(size='large', absorption='low', order = 1)\n",
    "\n",
    "rir_small = np.array(rir_small)\n",
    "print(rir_small.shape)\n",
    "\n",
    "plt.plot(rir_small[0][0])\n",
    "plt.show()\n",
    "\n",
    "plt.plot(rir_small[1][0])\n",
    "plt.show()"
   ]
  },
  {
   "cell_type": "code",
   "execution_count": 80,
   "metadata": {},
   "outputs": [
    {
     "name": "stdout",
     "output_type": "stream",
     "text": [
      "782\n",
      "781\n",
      "781\n",
      "781\n",
      "782\n",
      "770\n",
      "770\n",
      "770\n",
      "770\n",
      "770\n"
     ]
    }
   ],
   "source": [
    "rir_done = []\n",
    "\n",
    "for i in range(10):\n",
    "    for row in rir_small[i]:\n",
    "        rir_done.append(row)\n",
    "        print(len(row))"
   ]
  },
  {
   "cell_type": "code",
   "execution_count": 81,
   "metadata": {},
   "outputs": [],
   "source": [
    "out = []\n",
    "\n",
    "for i in range(10):\n",
    "    o = np.convolve(uni_white_noise, rir_done[i])\n",
    "    out.append(o)\n",
    "    \n",
    "    "
   ]
  },
  {
   "cell_type": "code",
   "execution_count": 82,
   "metadata": {},
   "outputs": [
    {
     "data": {
      "image/png": "[encoded data removed]",
      "text/plain": [
       "<Figure size 432x288 with 1 Axes>"
      ]
     },
     "metadata": {
      "needs_background": "light"
     },
     "output_type": "display_data"
    },
    {
     "name": "stdout",
     "output_type": "stream",
     "text": [
      "[28593, 28635, 28637, 28638, 28640, 28642, 28702, 28794, 28795, 28911, 28912, 29074, 29260]\n",
      "[1.7870625 1.790125  1.793875  1.7996875 1.807     1.817125  1.82875  ]\n"
     ]
    }
   ],
   "source": [
    "plt.plot(out[0][57040//2:31000])\n",
    "plt.show()\n",
    "\n",
    "peaks = []\n",
    "thresh = 0.045\n",
    "\n",
    "for i in range(len(out[0])):\n",
    "    if(out[0][i] > thresh):\n",
    "        peaks.append(i)\n",
    "print(peaks)\n",
    "        \n",
    "idx = []\n",
    "for i in range(len(peaks) - 1):\n",
    "    if(peaks[i+1] - peaks[i] < 3):\n",
    "        idx.append(i)\n",
    "        \n",
    "peaks_del = np.delete(peaks, idx)\n",
    "        \n",
    "print(np.array(peaks_del)/16000)"
   ]
  },
  {
   "cell_type": "code",
   "execution_count": 83,
   "metadata": {},
   "outputs": [
    {
     "data": {
      "image/png": "[encoded data removed]",
      "text/plain": [
       "<Figure size 432x288 with 1 Axes>"
      ]
     },
     "metadata": {
      "needs_background": "light"
     },
     "output_type": "display_data"
    },
    {
     "name": "stdout",
     "output_type": "stream",
     "text": [
      "[1.7866875 1.7898125 1.794625  1.799625  1.8069375 1.816375  1.82875  ]\n"
     ]
    }
   ],
   "source": [
    "plt.plot(out[1][57040//2:35000])\n",
    "plt.show()\n",
    "\n",
    "peaks = []\n",
    "thresh = 0.05\n",
    "\n",
    "for i in range(len(out[1])):\n",
    "    if(out[1][i] > thresh):\n",
    "        peaks.append(i)\n",
    "#print(peaks)\n",
    "\n",
    "peaks = np.array(peaks)\n",
    "\n",
    "idx = []\n",
    "for i in range(len(peaks) - 1):\n",
    "    if(peaks[i+1] - peaks[i] < 3):\n",
    "        idx.append(i)\n",
    "#print(idx)\n",
    "\n",
    "peaks_del = np.delete(peaks, idx)\n",
    "    \n",
    "print(np.array(peaks_del)/16000)"
   ]
  },
  {
   "cell_type": "code",
   "execution_count": 93,
   "metadata": {},
   "outputs": [
    {
     "data": {
      "image/png": "[encoded data removed]",
      "text/plain": [
       "<Figure size 432x288 with 1 Axes>"
      ]
     },
     "metadata": {
      "needs_background": "light"
     },
     "output_type": "display_data"
    },
    {
     "name": "stdout",
     "output_type": "stream",
     "text": [
      "[1.787     1.78725   1.789625  1.7953125 1.7995625 1.8069375 1.815625 ]\n"
     ]
    }
   ],
   "source": [
    "plt.plot(out[2][57040//2:35000])\n",
    "plt.show()\n",
    "\n",
    "peaks = []\n",
    "thresh = 0.06\n",
    "\n",
    "for i in range(len(out[2])):\n",
    "    if(out[2][i] > thresh):\n",
    "        peaks.append(i)\n",
    "#print(peaks)\n",
    "\n",
    "peaks = np.array(peaks)\n",
    "\n",
    "idx = []\n",
    "for i in range(len(peaks) - 1):\n",
    "    if(peaks[i+1] - peaks[i] < 3):\n",
    "        idx.append(i)\n",
    "#print(idx)\n",
    "\n",
    "peaks_del = np.delete(peaks, idx)\n",
    "    \n",
    "print(np.array(peaks_del)/16000)"
   ]
  },
  {
   "cell_type": "code",
   "execution_count": 85,
   "metadata": {},
   "outputs": [
    {
     "data": {
      "image/png": "[encoded data removed]",
      "text/plain": [
       "<Figure size 432x288 with 1 Axes>"
      ]
     },
     "metadata": {
      "needs_background": "light"
     },
     "output_type": "display_data"
    },
    {
     "name": "stdout",
     "output_type": "stream",
     "text": [
      "[1.7866875 1.7898125 1.7961875 1.799625  1.8069375 1.8149375 1.82875  ]\n"
     ]
    }
   ],
   "source": [
    "plt.plot(out[3][57040//2:35000])\n",
    "plt.show()\n",
    "\n",
    "peaks = []\n",
    "thresh = 0.045\n",
    "\n",
    "for i in range(len(out[3])):\n",
    "    if(out[3][i] > thresh):\n",
    "        peaks.append(i)\n",
    "#print(peaks)\n",
    "\n",
    "peaks = np.array(peaks)\n",
    "\n",
    "idx = []\n",
    "for i in range(len(peaks) - 1):\n",
    "    if(peaks[i+1] - peaks[i] < 3):\n",
    "        idx.append(i)\n",
    "#print(idx)\n",
    "\n",
    "peaks_del = np.delete(peaks, idx)\n",
    "    \n",
    "print(np.array(peaks_del)/16000)"
   ]
  },
  {
   "cell_type": "code",
   "execution_count": 86,
   "metadata": {},
   "outputs": [
    {
     "data": {
      "image/png": "[encoded data removed]",
      "text/plain": [
       "<Figure size 432x288 with 1 Axes>"
      ]
     },
     "metadata": {
      "needs_background": "light"
     },
     "output_type": "display_data"
    },
    {
     "name": "stdout",
     "output_type": "stream",
     "text": [
      "[1.7870625 1.790125  1.79675   1.7996875 1.807     1.8141875 1.82875  ]\n"
     ]
    }
   ],
   "source": [
    "plt.plot(out[4][57040//2:35000])\n",
    "plt.show()\n",
    "\n",
    "peaks = []\n",
    "thresh = 0.0436\n",
    "\n",
    "for i in range(len(out[4])):\n",
    "    if(out[4][i] > thresh):\n",
    "        peaks.append(i)\n",
    "#print(peaks)\n",
    "\n",
    "peaks = np.array(peaks)\n",
    "\n",
    "idx = []\n",
    "for i in range(len(peaks) - 1):\n",
    "    if(peaks[i+1] - peaks[i] < 3):\n",
    "        idx.append(i)\n",
    "#print(idx)\n",
    "\n",
    "peaks_del = np.delete(peaks, idx)\n",
    "    \n",
    "print(np.array(peaks_del)/16000)"
   ]
  },
  {
   "cell_type": "code",
   "execution_count": 87,
   "metadata": {},
   "outputs": [
    {
     "data": {
      "image/png": "[encoded data removed]",
      "text/plain": [
       "<Figure size 432x288 with 1 Axes>"
      ]
     },
     "metadata": {
      "needs_background": "light"
     },
     "output_type": "display_data"
    },
    {
     "name": "stdout",
     "output_type": "stream",
     "text": [
      "[1.7876875 1.79025   1.7940625 1.800375  1.8070625 1.817125  1.828    ]\n"
     ]
    }
   ],
   "source": [
    "plt.plot(out[5][57040//2:35000])\n",
    "plt.show()\n",
    "\n",
    "peaks = []\n",
    "thresh = 0.04\n",
    "\n",
    "for i in range(len(out[5])):\n",
    "    if(out[5][i] > thresh):\n",
    "        peaks.append(i)\n",
    "#print(peaks)\n",
    "\n",
    "peaks = np.array(peaks)\n",
    "\n",
    "idx = []\n",
    "for i in range(len(peaks) - 1):\n",
    "    if(peaks[i+1] - peaks[i] < 3):\n",
    "        idx.append(i)\n",
    "#print(idx)\n",
    "\n",
    "peaks_del = np.delete(peaks, idx)\n",
    "    \n",
    "print(np.array(peaks_del)/16000)"
   ]
  },
  {
   "cell_type": "code",
   "execution_count": 88,
   "metadata": {},
   "outputs": [
    {
     "data": {
      "image/png": "[encoded data removed]",
      "text/plain": [
       "<Figure size 432x288 with 1 Axes>"
      ]
     },
     "metadata": {
      "needs_background": "light"
     },
     "output_type": "display_data"
    },
    {
     "name": "stdout",
     "output_type": "stream",
     "text": [
      "[1.7875625 1.79      1.79475   1.8003125 1.807     1.8164375 1.828    ]\n"
     ]
    }
   ],
   "source": [
    "plt.plot(out[6][57040//2:35000])\n",
    "plt.show()\n",
    "\n",
    "peaks = []\n",
    "thresh = 0.039\n",
    "\n",
    "for i in range(len(out[6])):\n",
    "    if(out[6][i] > thresh):\n",
    "        peaks.append(i)\n",
    "#print(peaks)\n",
    "\n",
    "peaks = np.array(peaks)\n",
    "\n",
    "idx = []\n",
    "for i in range(len(peaks) - 1):\n",
    "    if(peaks[i+1] - peaks[i] < 3):\n",
    "        idx.append(i)\n",
    "#print(idx)\n",
    "\n",
    "peaks_del = np.delete(peaks, idx)\n",
    "    \n",
    "print(np.array(peaks_del)/16000)"
   ]
  },
  {
   "cell_type": "code",
   "execution_count": 89,
   "metadata": {},
   "outputs": [
    {
     "data": {
      "image/png": "[encoded data removed]",
      "text/plain": [
       "<Figure size 432x288 with 1 Axes>"
      ]
     },
     "metadata": {
      "needs_background": "light"
     },
     "output_type": "display_data"
    },
    {
     "name": "stdout",
     "output_type": "stream",
     "text": [
      "[1.7871875 1.7900625 1.7954375 1.8003125 1.807     1.8156875 1.828    ]\n"
     ]
    }
   ],
   "source": [
    "plt.plot(out[7][57040//2:35000])\n",
    "plt.show()\n",
    "\n",
    "peaks = []\n",
    "thresh = 0.04\n",
    "\n",
    "for i in range(len(out[7])):\n",
    "    if(out[7][i] > thresh):\n",
    "        peaks.append(i)\n",
    "#print(peaks)\n",
    "\n",
    "peaks = np.array(peaks)\n",
    "\n",
    "idx = []\n",
    "for i in range(len(peaks) - 1):\n",
    "    if(peaks[i+1] - peaks[i] < 3):\n",
    "        idx.append(i)\n",
    "#print(idx)\n",
    "\n",
    "peaks_del = np.delete(peaks, idx)\n",
    "    \n",
    "print(np.array(peaks_del)/16000)"
   ]
  },
  {
   "cell_type": "code",
   "execution_count": 90,
   "metadata": {},
   "outputs": [
    {
     "data": {
      "image/png": "[encoded data removed]",
      "text/plain": [
       "<Figure size 432x288 with 1 Axes>"
      ]
     },
     "metadata": {
      "needs_background": "light"
     },
     "output_type": "display_data"
    },
    {
     "name": "stdout",
     "output_type": "stream",
     "text": [
      "[1.7874375 1.7899375 1.7961875 1.8003125 1.807     1.815     1.828    ]\n"
     ]
    }
   ],
   "source": [
    "plt.plot(out[8][57040//2:35000])\n",
    "plt.show()\n",
    "\n",
    "peaks = []\n",
    "thresh = 0.05\n",
    "\n",
    "for i in range(len(out[8])):\n",
    "    if(out[8][i] > thresh):\n",
    "        peaks.append(i)\n",
    "#print(peaks)\n",
    "\n",
    "peaks = np.array(peaks)\n",
    "\n",
    "idx = []\n",
    "for i in range(len(peaks) - 1):\n",
    "    if(peaks[i+1] - peaks[i] < 3):\n",
    "        idx.append(i)\n",
    "#print(idx)\n",
    "\n",
    "peaks_del = np.delete(peaks, idx)\n",
    "    \n",
    "print(np.array(peaks_del)/16000)"
   ]
  },
  {
   "cell_type": "code",
   "execution_count": 91,
   "metadata": {},
   "outputs": [
    {
     "data": {
      "image/png": "[encoded data removed]",
      "text/plain": [
       "<Figure size 432x288 with 1 Axes>"
      ]
     },
     "metadata": {
      "needs_background": "light"
     },
     "output_type": "display_data"
    },
    {
     "name": "stdout",
     "output_type": "stream",
     "text": [
      "[1.7876875 1.79025   1.796875  1.800375  1.8070625 1.81425   1.828    ]\n"
     ]
    }
   ],
   "source": [
    "plt.plot(out[9][57040//2:35000])\n",
    "plt.show()\n",
    "\n",
    "peaks = []\n",
    "thresh = 0.04\n",
    "\n",
    "for i in range(len(out[9])):\n",
    "    if(out[9][i] > thresh):\n",
    "        peaks.append(i)\n",
    "#print(peaks)\n",
    "\n",
    "peaks = np.array(peaks)\n",
    "\n",
    "idx = []\n",
    "for i in range(len(peaks) - 1):\n",
    "    if(peaks[i+1] - peaks[i] < 3):\n",
    "        idx.append(i)\n",
    "#print(idx)\n",
    "\n",
    "peaks_del = np.delete(peaks, idx)\n",
    "    \n",
    "print(np.array(peaks_del)/16000)"
   ]
  },
  {
   "cell_type": "code",
   "execution_count": null,
   "metadata": {},
   "outputs": [],
   "source": []
  }
 ],
 "metadata": {
  "kernelspec": {
   "display_name": "Python 3",
   "language": "python",
   "name": "python3"
  },
  "language_info": {
   "codemirror_mode": {
    "name": "ipython",
    "version": 3
   },
   "file_extension": ".py",
   "mimetype": "text/x-python",
   "name": "python",
   "nbconvert_exporter": "python",
   "pygments_lexer": "ipython3",
   "version": "3.6.9"
  }
 },
 "nbformat": 4,
 "nbformat_minor": 4
}
