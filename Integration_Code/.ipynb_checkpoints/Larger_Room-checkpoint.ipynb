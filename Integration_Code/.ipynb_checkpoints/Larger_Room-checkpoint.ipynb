{
 "cells": [
  {
   "cell_type": "code",
   "execution_count": 1,
   "metadata": {
    "scrolled": false
   },
   "outputs": [],
   "source": [
    "from __future__ import print_function\n",
    "import numpy as np\n",
    "import matplotlib.pyplot as plt\n",
    "import pyroomacoustics as pra\n",
    "from scipy.io import wavfile\n",
    "from scipy.io import savemat\n",
    "from scipy.signal import correlate\n",
    "import IPython\n",
    "import heapq"
   ]
  },
  {
   "cell_type": "code",
   "execution_count": 2,
   "metadata": {
    "scrolled": false
   },
   "outputs": [
    {
     "data": {
      "image/png": "[encoded data removed]",
      "text/plain": [
       "<Figure size 432x288 with 1 Axes>"
      ]
     },
     "metadata": {
      "needs_background": "light"
     },
     "output_type": "display_data"
    },
    {
     "name": "stdout",
     "output_type": "stream",
     "text": [
      "(57040,)\n"
     ]
    }
   ],
   "source": [
    "#uni_white_noise = np.random.uniform(-1,1,57040)\n",
    "uni_white_noise = np.random.uniform(-0.01,0.01,57040)\n",
    "uni_white_noise[28520] = 1\n",
    "\n",
    "plt.plot(uni_white_noise)\n",
    "plt.show()\n",
    "print(uni_white_noise.shape)"
   ]
  },
  {
   "cell_type": "code",
   "execution_count": 3,
   "metadata": {
    "scrolled": false
   },
   "outputs": [],
   "source": [
    "def get_rir(size='medium', absorption='medium', order = 0):\n",
    "    if absorption=='high':\n",
    "        absor = 0.9\n",
    "    elif absorption=='medium':\n",
    "        absor = 0.3\n",
    "    elif absorption=='low':\n",
    "        absor = 0.1\n",
    "    else:\n",
    "        raise ValueError(\"The absorption parameter can only take values ['low', 'medium', 'high']\")\n",
    "    \n",
    "    if size=='large':\n",
    "        size_coef = 5.\n",
    "    elif size=='medium':\n",
    "        size_coef = 2.5\n",
    "    elif size=='small':\n",
    "        size_coef = 1.\n",
    "    else:\n",
    "        raise ValueError(\"The size parameter can only take values ['small', 'medium', 'large']\")\n",
    "        \n",
    "        \n",
    "    pol = size_coef * np.array([[0,0], [0,6], [5,6], [5,0]]).T\n",
    "    room = pra.Room.from_corners(pol, fs=16000, max_order=order, absorption=absor)\n",
    "\n",
    "    # Create the 3D room by extruding the 2D by a specific height\n",
    "    room.extrude(size_coef * 2.5, absorption=absor)\n",
    "\n",
    "    # Adding the source\n",
    "    room.add_source(size_coef * np.array([1.8, 0.4, 1.6]), signal=uni_white_noise)\n",
    "\n",
    "    # Adding the microphones\n",
    "    R = size_coef * np.array([[2.5, 2.9, 0.5], \n",
    "                              [2.0, 2.0, 0.8], \n",
    "                              [1.5, 1.5, 1.0], \n",
    "                              [1.0, 0.5, 0.6], \n",
    "                              [2.5, 0.5, 1.0],\n",
    "                              [2.9, 1.0, 1.2],\n",
    "                              [0.5, 1.5, 1.0],\n",
    "                              [0.8, 3.5, 1.5],\n",
    "                              [2.9, 2.5, 1.0],\n",
    "                              [2.0, 3.9, 1.6]])\n",
    "    R = np.transpose(R)\n",
    "    room.add_microphone_array(pra.MicrophoneArray(R, room.fs))\n",
    "\n",
    "    # Compute the RIR\n",
    "    room.compute_rir()\n",
    "\n",
    "    # Plot and apply the RIR on the audio file\n",
    "    #room.plot_rir()\n",
    "    #plt.show()\n",
    "    room.simulate()\n",
    "    room.mic_array.to_wav('aaa.wav', norm=True, bitdepth=np.int16)\n",
    "    \n",
    "    # Display the audio file\n",
    "    fs_result, result = wavfile.read('aaa.wav')\n",
    "    #IPython.display.display(IPython.display.Audio(result, rate=fs_result))\n",
    "    \n",
    "    return room.rir"
   ]
  },
  {
   "cell_type": "code",
   "execution_count": 4,
   "metadata": {
    "scrolled": false
   },
   "outputs": [
    {
     "name": "stderr",
     "output_type": "stream",
     "text": [
      "/home/manav/anaconda3/lib/python3.8/site-packages/pyroomacoustics/room.py:1163: UserWarning: Using absorption parameter is deprecated. In the future, use materials instead.\n",
      "  warnings.warn(\n",
      "<ipython-input-4-58d19dc2e74e>:3: VisibleDeprecationWarning: Creating an ndarray from ragged nested sequences (which is a list-or-tuple of lists-or-tuples-or ndarrays with different lengths or shapes) is deprecated. If you meant to do this, you must specify 'dtype=object' when creating the ndarray.\n",
      "  rir_small = np.array(rir_small)\n"
     ]
    },
    {
     "name": "stdout",
     "output_type": "stream",
     "text": [
      "(10, 1)\n"
     ]
    },
    {
     "data": {
      "image/png": "[encoded data removed]",
      "text/plain": [
       "<Figure size 432x288 with 1 Axes>"
      ]
     },
     "metadata": {
      "needs_background": "light"
     },
     "output_type": "display_data"
    },
    {
     "data": {
      "image/png": "[encoded data removed]",
      "text/plain": [
       "<Figure size 432x288 with 1 Axes>"
      ]
     },
     "metadata": {
      "needs_background": "light"
     },
     "output_type": "display_data"
    }
   ],
   "source": [
    "rir_small = get_rir(size='large', absorption='low', order = 1)\n",
    "\n",
    "rir_small = np.array(rir_small)\n",
    "print(rir_small.shape)\n",
    "\n",
    "plt.plot(rir_small[0][0])\n",
    "plt.show()\n",
    "\n",
    "plt.plot(rir_small[1][0])\n",
    "plt.show()"
   ]
  },
  {
   "cell_type": "code",
   "execution_count": 5,
   "metadata": {
    "scrolled": false
   },
   "outputs": [
    {
     "name": "stdout",
     "output_type": "stream",
     "text": [
      "2133\n",
      "2329\n",
      "2442\n",
      "2688\n",
      "2679\n",
      "2569\n",
      "2461\n",
      "1985\n",
      "2224\n",
      "1878\n"
     ]
    }
   ],
   "source": [
    "rir_done = []\n",
    "\n",
    "for i in range(10):\n",
    "    for row in rir_small[i]:\n",
    "        rir_done.append(row)\n",
    "        print(len(row))"
   ]
  },
  {
   "cell_type": "code",
   "execution_count": 6,
   "metadata": {
    "scrolled": false
   },
   "outputs": [],
   "source": [
    "out = []\n",
    "\n",
    "for i in range(10):\n",
    "    o = np.convolve(uni_white_noise, rir_done[i])\n",
    "    out.append(o)"
   ]
  },
  {
   "cell_type": "code",
   "execution_count": 17,
   "metadata": {
    "scrolled": false
   },
   "outputs": [
    {
     "data": {
      "image/png": "[encoded data removed]",
      "text/plain": [
       "<Figure size 432x288 with 1 Axes>"
      ]
     },
     "metadata": {
      "needs_background": "light"
     },
     "output_type": "display_data"
    },
    {
     "data": {
      "image/png": "[encoded data removed]",
      "text/plain": [
       "<Figure size 432x288 with 1 Axes>"
      ]
     },
     "metadata": {
      "needs_background": "light"
     },
     "output_type": "display_data"
    },
    {
     "name": "stdout",
     "output_type": "stream",
     "text": [
      "[29217, 29218, 29339, 29387, 29388, 29468, 29748, 30034, 30612]\n",
      "[0.043625, 0.0511875, 0.0541875, 0.05925, 0.07675, 0.094625, 0.13075]\n"
     ]
    }
   ],
   "source": [
    "plt.plot(out[0][57040//2:31000])\n",
    "plt.show()\n",
    "\n",
    "plt.plot(out[1][57040//2:31000])\n",
    "plt.show()\n",
    "\n",
    "peaks = []\n",
    "thresh = 0.015\n",
    "\n",
    "for i in range(len(out[0])):\n",
    "    if(out[0][i] > thresh):\n",
    "        peaks.append(i)\n",
    "print(peaks)\n",
    "        \n",
    "idx = []\n",
    "for i in range(len(peaks) - 1):\n",
    "    if(peaks[i+1] - peaks[i] < 2):\n",
    "        idx.append(i)\n",
    "        \n",
    "for i in range(len(idx)):\n",
    "    peaks.pop(idx[i])\n",
    "        \n",
    "for i in range(len(peaks)):\n",
    "    peaks[i] = peaks[i] - (57040//2)#Centering at zero\n",
    "    peaks[i] = float(peaks[i])/16000 #Dividing by Sampling Frequency to get answers in seconds\n",
    "    \n",
    "print(peaks)"
   ]
  },
  {
   "cell_type": "code",
   "execution_count": 167,
   "metadata": {
    "scrolled": false
   },
   "outputs": [
    {
     "name": "stdout",
     "output_type": "stream",
     "text": [
      "59172\n",
      "59368\n"
     ]
    },
    {
     "data": {
      "image/png": "[encoded data removed]",
      "text/plain": [
       "<Figure size 432x288 with 1 Axes>"
      ]
     },
     "metadata": {
      "needs_background": "light"
     },
     "output_type": "display_data"
    }
   ],
   "source": [
    "print(len(out[0]))\n",
    "print(len(out[1]))\n",
    "ans = correlate(out[0],out[1],\"full\")\n",
    "ans2 = correlate(out[1], out[0], \"full\")\n",
    "\n",
    "plt.plot(ans)\n",
    "plt.show()"
   ]
  },
  {
   "cell_type": "code",
   "execution_count": 168,
   "metadata": {
    "scrolled": false
   },
   "outputs": [
    {
     "name": "stdout",
     "output_type": "stream",
     "text": [
      "[59605]\n",
      "[58933]\n"
     ]
    }
   ],
   "source": [
    "print(heapq.nlargest(1,range(len(ans)),ans.take))\n",
    "print(heapq.nlargest(1,range(len(ans2)), ans2.take))"
   ]
  },
  {
   "cell_type": "code",
   "execution_count": 169,
   "metadata": {
    "scrolled": true
   },
   "outputs": [
    {
     "name": "stdout",
     "output_type": "stream",
     "text": [
      "0\n",
      "1\n",
      "2\n",
      "3\n",
      "4\n",
      "5\n",
      "6\n",
      "7\n",
      "8\n",
      "9\n",
      "10\n",
      "11\n",
      "12\n",
      "13\n",
      "14\n",
      "15\n",
      "16\n",
      "17\n",
      "18\n",
      "19\n",
      "20\n",
      "21\n",
      "22\n",
      "23\n",
      "24\n",
      "25\n",
      "26\n",
      "27\n",
      "28\n",
      "29\n",
      "30\n",
      "31\n",
      "32\n",
      "33\n",
      "34\n",
      "35\n",
      "36\n",
      "37\n",
      "38\n",
      "39\n",
      "40\n",
      "41\n",
      "42\n",
      "43\n",
      "44\n",
      "45\n",
      "46\n",
      "47\n",
      "48\n",
      "49\n",
      "50\n",
      "51\n",
      "52\n",
      "53\n",
      "54\n",
      "55\n",
      "56\n",
      "57\n",
      "58\n",
      "59\n",
      "60\n",
      "61\n",
      "62\n",
      "63\n",
      "64\n",
      "65\n",
      "66\n",
      "67\n",
      "68\n",
      "69\n",
      "70\n",
      "71\n",
      "72\n",
      "73\n",
      "74\n",
      "75\n",
      "76\n",
      "77\n",
      "78\n",
      "79\n",
      "80\n",
      "81\n",
      "82\n",
      "83\n",
      "84\n",
      "85\n",
      "86\n",
      "87\n",
      "88\n",
      "89\n",
      "90\n",
      "91\n",
      "92\n",
      "93\n",
      "94\n",
      "95\n",
      "96\n",
      "97\n",
      "98\n",
      "99\n",
      "[[0.        3.7253125 3.7398125 3.75525   3.759875  3.747375  3.7335\n",
      "  3.6825625 3.7093125 3.67225  ]\n",
      " [3.6833125 0.        3.7249375 3.740375  3.7450625 3.7325    3.718625\n",
      "  3.6676875 3.6944375 3.657375 ]\n",
      " [3.675875  3.703     0.        3.7329375 3.7375625 3.7250625 3.711125\n",
      "  3.6601875 3.687     3.6499375]\n",
      " [3.6758125 3.7029375 3.7174375 0.        3.7375    3.725     3.7110625\n",
      "  3.6601875 3.6869375 3.649875 ]\n",
      " [3.670625  3.6976875 3.71225   3.7276875 0.        3.7198125 3.705875\n",
      "  3.6549375 3.68175   3.6446875]\n",
      " [3.67625   3.703375  3.717875  3.7333125 3.7379375 0.        3.7115625\n",
      "  3.660625  3.687375  3.6503125]\n",
      " [3.683375  3.7105    3.7250625 3.7405    3.745125  3.7325625 0.\n",
      "  3.66775   3.6945625 3.6574375]\n",
      " [3.7045625 3.7316875 3.74625   3.761625  3.7663125 3.75375   3.739875\n",
      "  0.        3.71575   3.678625 ]\n",
      " [3.69275   3.719875  3.734375  3.7498125 3.7544375 3.7419375 3.728\n",
      "  3.6770625 0.        3.6668125]\n",
      " [3.7081875 3.7353125 3.7498125 3.76525   3.769875  3.757375  3.7435\n",
      "  3.6925625 3.7193125 0.       ]]\n"
     ]
    }
   ],
   "source": [
    "tij = np.zeros((10,10))\n",
    "cnt = 0\n",
    "\n",
    "for i in range(10):\n",
    "    for j in range(10):\n",
    "        print(cnt)\n",
    "        cnt = cnt + 1\n",
    "        if(i == j):\n",
    "            continue\n",
    "        else:\n",
    "            ans = np.correlate(out[i],out[j],\"full\")\n",
    "            val = heapq.nlargest(1,range(len(ans)),ans.take)\n",
    "            tij[i][j] = val[0]/16000\n",
    "            \n",
    "print(abs(tij))"
   ]
  },
  {
   "cell_type": "code",
   "execution_count": null,
   "metadata": {
    "scrolled": false
   },
   "outputs": [],
   "source": []
  }
 ],
 "metadata": {
  "kernelspec": {
   "display_name": "Python 3",
   "language": "python",
   "name": "python3"
  },
  "language_info": {
   "codemirror_mode": {
    "name": "ipython",
    "version": 3
   },
   "file_extension": ".py",
   "mimetype": "text/x-python",
   "name": "python",
   "nbconvert_exporter": "python",
   "pygments_lexer": "ipython3",
   "version": "3.8.8"
  }
 },
 "nbformat": 4,
 "nbformat_minor": 4
}
