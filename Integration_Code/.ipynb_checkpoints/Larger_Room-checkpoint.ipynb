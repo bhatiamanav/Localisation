{
 "cells": [
  {
   "cell_type": "code",
   "execution_count": 2,
   "metadata": {
    "scrolled": false
   },
   "outputs": [],
   "source": [
    "from __future__ import print_function\n",
    "import numpy as np\n",
    "import matplotlib.pyplot as plt\n",
    "import pyroomacoustics as pra\n",
    "from scipy.io import wavfile\n",
    "from scipy.io import savemat\n",
    "from scipy.signal import correlate\n",
    "import IPython\n",
    "import heapq"
   ]
  },
  {
   "cell_type": "code",
   "execution_count": 3,
   "metadata": {
    "scrolled": false
   },
   "outputs": [
    {
     "data": {
      "image/png": "[encoded data removed]",
      "text/plain": [
       "<Figure size 432x288 with 1 Axes>"
      ]
     },
     "metadata": {
      "needs_background": "light"
     },
     "output_type": "display_data"
    },
    {
     "name": "stdout",
     "output_type": "stream",
     "text": [
      "(57040,)\n"
     ]
    }
   ],
   "source": [
    "#uni_white_noise = np.random.uniform(-1,1,57040)\n",
    "uni_white_noise = np.random.uniform(-0.01,0.01,57040)\n",
    "uni_white_noise[28520] = 1\n",
    "\n",
    "plt.plot(uni_white_noise)\n",
    "plt.show()\n",
    "print(uni_white_noise.shape)"
   ]
  },
  {
   "cell_type": "code",
   "execution_count": 4,
   "metadata": {
    "scrolled": false
   },
   "outputs": [],
   "source": [
    "def get_rir(size='medium', absorption='medium', order = 0):\n",
    "    if absorption=='high':\n",
    "        absor = 0.9\n",
    "    elif absorption=='medium':\n",
    "        absor = 0.3\n",
    "    elif absorption=='low':\n",
    "        absor = 0.1\n",
    "    else:\n",
    "        raise ValueError(\"The absorption parameter can only take values ['low', 'medium', 'high']\")\n",
    "    \n",
    "    if size=='large':\n",
    "        size_coef = 5.\n",
    "    elif size=='medium':\n",
    "        size_coef = 2.5\n",
    "    elif size=='small':\n",
    "        size_coef = 1.\n",
    "    else:\n",
    "        raise ValueError(\"The size parameter can only take values ['small', 'medium', 'large']\")\n",
    "        \n",
    "        \n",
    "    pol = size_coef * np.array([[0,0], [0,6], [5,6], [5,0]]).T\n",
    "    room = pra.Room.from_corners(pol, fs=16000, max_order=order, absorption=absor)\n",
    "\n",
    "    # Create the 3D room by extruding the 2D by a specific height\n",
    "    room.extrude(size_coef * 2.5, absorption=absor)\n",
    "\n",
    "    # Adding the source\n",
    "    room.add_source(size_coef * np.array([1.8, 0.4, 1.6]), signal=uni_white_noise)\n",
    "\n",
    "    # Adding the microphones\n",
    "    R = size_coef * np.array([[2.5, 2.9, 0.5], \n",
    "                              [2.0, 2.0, 0.8], \n",
    "                              [1.5, 1.5, 1.0], \n",
    "                              [1.0, 0.5, 0.6], \n",
    "                              [2.5, 0.5, 1.0],\n",
    "                              [2.9, 1.0, 1.2],\n",
    "                              [0.5, 1.5, 1.0],\n",
    "                              [0.8, 3.5, 1.5],\n",
    "                              [2.9, 2.5, 1.0],\n",
    "                              [2.0, 3.9, 1.6]])\n",
    "    R = np.transpose(R)\n",
    "    room.add_microphone_array(pra.MicrophoneArray(R, room.fs))\n",
    "\n",
    "    # Compute the RIR\n",
    "    room.compute_rir()\n",
    "\n",
    "    # Plot and apply the RIR on the audio file\n",
    "    #room.plot_rir()\n",
    "    #plt.show()\n",
    "    room.simulate()\n",
    "    room.mic_array.to_wav('aaa.wav', norm=True, bitdepth=np.int16)\n",
    "    \n",
    "    # Display the audio file\n",
    "    fs_result, result = wavfile.read('aaa.wav')\n",
    "    #IPython.display.display(IPython.display.Audio(result, rate=fs_result))\n",
    "    \n",
    "    return room.rir"
   ]
  },
  {
   "cell_type": "code",
   "execution_count": 5,
   "metadata": {
    "scrolled": false
   },
   "outputs": [
    {
     "name": "stdout",
     "output_type": "stream",
     "text": [
      "(10, 1)\n"
     ]
    },
    {
     "name": "stderr",
     "output_type": "stream",
     "text": [
      "/home/manav/anaconda3/lib/python3.8/site-packages/pyroomacoustics/room.py:1163: UserWarning: Using absorption parameter is deprecated. In the future, use materials instead.\n",
      "  warnings.warn(\n",
      "<ipython-input-5-58d19dc2e74e>:3: VisibleDeprecationWarning: Creating an ndarray from ragged nested sequences (which is a list-or-tuple of lists-or-tuples-or ndarrays with different lengths or shapes) is deprecated. If you meant to do this, you must specify 'dtype=object' when creating the ndarray.\n",
      "  rir_small = np.array(rir_small)\n"
     ]
    },
    {
     "data": {
      "image/png": "[encoded data removed]",
      "text/plain": [
       "<Figure size 432x288 with 1 Axes>"
      ]
     },
     "metadata": {
      "needs_background": "light"
     },
     "output_type": "display_data"
    },
    {
     "data": {
      "image/png": "[encoded data removed]",
      "text/plain": [
       "<Figure size 432x288 with 1 Axes>"
      ]
     },
     "metadata": {
      "needs_background": "light"
     },
     "output_type": "display_data"
    }
   ],
   "source": [
    "rir_small = get_rir(size='large', absorption='low', order = 1)\n",
    "\n",
    "rir_small = np.array(rir_small)\n",
    "print(rir_small.shape)\n",
    "\n",
    "plt.plot(rir_small[0][0])\n",
    "plt.show()\n",
    "\n",
    "plt.plot(rir_small[1][0])\n",
    "plt.show()"
   ]
  },
  {
   "cell_type": "markdown",
   "metadata": {},
   "source": [
    "# ROOM IMPULSE RESPONSE TIMESTAMPS"
   ]
  },
  {
   "cell_type": "code",
   "execution_count": 6,
   "metadata": {},
   "outputs": [
    {
     "data": {
      "image/png": "[encoded data removed]",
      "text/plain": [
       "<Figure size 432x288 with 1 Axes>"
      ]
     },
     "metadata": {
      "needs_background": "light"
     },
     "output_type": "display_data"
    },
    {
     "name": "stdout",
     "output_type": "stream",
     "text": [
      "[697, 698, 819, 867, 868, 948, 1228, 1514, 2092]\n",
      "2133\n",
      "[0, 3]\n",
      "[0.043625  0.0511875 0.05425   0.05925   0.07675   0.094625  0.13075  ]\n"
     ]
    }
   ],
   "source": [
    "#Microphone 1\n",
    "plt.plot(rir_small[0][0])\n",
    "plt.show()\n",
    "\n",
    "peaks = []\n",
    "thresh = 0.014\n",
    "\n",
    "for i in range(len(rir_small[0][0])):\n",
    "    if(rir_small[0][0][i] > thresh):\n",
    "        peaks.append(i)\n",
    "print(peaks)\n",
    "print(len(rir_small[0][0]))\n",
    "\n",
    "peaks = np.array(peaks)\n",
    "\n",
    "idx = []\n",
    "for i in range(len(peaks) - 1):\n",
    "    if(peaks[i+1] - peaks[i] < 4):\n",
    "        idx.append(i)\n",
    "print(idx)\n",
    "\n",
    "peaks_del = np.delete(peaks, idx)\n",
    "    \n",
    "print(np.array(peaks_del)/16000)"
   ]
  },
  {
   "cell_type": "code",
   "execution_count": 7,
   "metadata": {},
   "outputs": [
    {
     "data": {
      "image/png": "[encoded data removed]",
      "text/plain": [
       "<Figure size 432x288 with 1 Axes>"
      ]
     },
     "metadata": {
      "needs_background": "light"
     },
     "output_type": "display_data"
    },
    {
     "name": "stdout",
     "output_type": "stream",
     "text": [
      "[459, 460, 632, 714, 715, 753, 754, 1019, 1020, 1545, 2287]\n",
      "2329\n",
      "[0, 3, 5, 7]\n",
      "[0.02875   0.0395    0.0446875 0.047125  0.06375   0.0965625 0.1429375]\n"
     ]
    }
   ],
   "source": [
    "#Microphone 2\n",
    "plt.plot(rir_small[1][0])\n",
    "plt.show()\n",
    "\n",
    "peaks = []\n",
    "thresh = 0.014\n",
    "\n",
    "for i in range(len(rir_small[1][0])):\n",
    "    if(rir_small[1][0][i] > thresh):\n",
    "        peaks.append(i)\n",
    "print(peaks)\n",
    "print(len(rir_small[1][0]))\n",
    "\n",
    "peaks = np.array(peaks)\n",
    "\n",
    "idx = []\n",
    "for i in range(len(peaks) - 1):\n",
    "    if(peaks[i+1] - peaks[i] < 4):\n",
    "        idx.append(i)\n",
    "print(idx)\n",
    "\n",
    "peaks_del = np.delete(peaks, idx)\n",
    "    \n",
    "print(np.array(peaks_del)/16000)"
   ]
  },
  {
   "cell_type": "code",
   "execution_count": 8,
   "metadata": {},
   "outputs": [
    {
     "data": {
      "image/png": "[encoded data removed]",
      "text/plain": [
       "<Figure size 432x288 with 1 Axes>"
      ]
     },
     "metadata": {
      "needs_background": "light"
     },
     "output_type": "display_data"
    },
    {
     "name": "stdout",
     "output_type": "stream",
     "text": [
      "[338, 340, 341, 343, 510, 659, 660, 702, 863, 864, 1630, 2401]\n",
      "2442\n",
      "[0, 1, 2, 5, 8]\n",
      "[0.0214375 0.031875  0.04125   0.043875  0.054     0.101875  0.1500625]\n"
     ]
    }
   ],
   "source": [
    "#Microphone 3\n",
    "plt.plot(rir_small[2][0])\n",
    "plt.show()\n",
    "\n",
    "peaks = []\n",
    "thresh = 0.014\n",
    "\n",
    "for i in range(len(rir_small[2][0])):\n",
    "    if(rir_small[2][0][i] > thresh):\n",
    "        peaks.append(i)\n",
    "print(peaks)\n",
    "print(len(rir_small[2][0]))\n",
    "\n",
    "peaks = np.array(peaks)\n",
    "\n",
    "idx = []\n",
    "for i in range(len(peaks) - 1):\n",
    "    if(peaks[i+1] - peaks[i] < 4):\n",
    "        idx.append(i)\n",
    "print(idx)\n",
    "\n",
    "peaks_del = np.delete(peaks, idx)\n",
    "    \n",
    "print(np.array(peaks_del)/16000)"
   ]
  },
  {
   "cell_type": "code",
   "execution_count": 9,
   "metadata": {},
   "outputs": [
    {
     "data": {
      "image/png": "[encoded data removed]",
      "text/plain": [
       "<Figure size 432x288 with 1 Axes>"
      ]
     },
     "metadata": {
      "needs_background": "light"
     },
     "output_type": "display_data"
    },
    {
     "name": "stdout",
     "output_type": "stream",
     "text": [
      "[337, 339, 340, 342, 405, 586, 587, 719, 720, 734, 1736, 2646]\n",
      "2688\n",
      "[0, 1, 2, 5, 7]\n",
      "[0.021375  0.0253125 0.0366875 0.045     0.045875  0.1085    0.165375 ]\n"
     ]
    }
   ],
   "source": [
    "#Microphone 4\n",
    "\n",
    "plt.plot(rir_small[3][0])\n",
    "plt.show()\n",
    "\n",
    "peaks = []\n",
    "thresh = 0.014\n",
    "\n",
    "for i in range(len(rir_small[3][0])):\n",
    "    if(rir_small[3][0][i] > thresh):\n",
    "        peaks.append(i)\n",
    "print(peaks)\n",
    "print(len(rir_small[3][0]))\n",
    "\n",
    "peaks = np.array(peaks)\n",
    "\n",
    "idx = []\n",
    "for i in range(len(peaks) - 1):\n",
    "    if(peaks[i+1] - peaks[i] < 4):\n",
    "        idx.append(i)\n",
    "print(idx)\n",
    "\n",
    "peaks_del = np.delete(peaks, idx)\n",
    "    \n",
    "print(np.array(peaks_del)/16000)"
   ]
  },
  {
   "cell_type": "code",
   "execution_count": 10,
   "metadata": {},
   "outputs": [
    {
     "data": {
      "image/png": "[encoded data removed]",
      "text/plain": [
       "<Figure size 432x288 with 1 Axes>"
      ]
     },
     "metadata": {
      "needs_background": "light"
     },
     "output_type": "display_data"
    },
    {
     "name": "stdout",
     "output_type": "stream",
     "text": [
      "[254, 256, 257, 259, 338, 340, 341, 343, 623, 624, 668, 669, 1053, 1377, 2638]\n",
      "2679\n",
      "[0, 1, 2, 4, 5, 6, 8, 10]\n",
      "[0.0161875 0.0214375 0.039     0.0418125 0.0658125 0.0860625 0.164875 ]\n"
     ]
    }
   ],
   "source": [
    "#Microphone 5\n",
    "\n",
    "plt.plot(rir_small[4][0])\n",
    "plt.show()\n",
    "\n",
    "peaks = []\n",
    "thresh = 0.015\n",
    "\n",
    "for i in range(len(rir_small[4][0])):\n",
    "    if(rir_small[4][0][i] > thresh):\n",
    "        peaks.append(i)\n",
    "print(peaks)\n",
    "print(len(rir_small[4][0]))\n",
    "\n",
    "peaks = np.array(peaks)\n",
    "\n",
    "idx = []\n",
    "for i in range(len(peaks) - 1):\n",
    "    if(peaks[i+1] - peaks[i] < 4):\n",
    "        idx.append(i)\n",
    "print(idx)\n",
    "\n",
    "peaks_del = np.delete(peaks, idx)\n",
    "    \n",
    "print(np.array(peaks_del)/16000)"
   ]
  },
  {
   "cell_type": "code",
   "execution_count": 11,
   "metadata": {},
   "outputs": [
    {
     "data": {
      "image/png": "[encoded data removed]",
      "text/plain": [
       "<Figure size 432x288 with 1 Axes>"
      ]
     },
     "metadata": {
      "needs_background": "light"
     },
     "output_type": "display_data"
    },
    {
     "name": "stdout",
     "output_type": "stream",
     "text": [
      "[346, 347, 465, 466, 630, 631, 755, 756, 1149, 1287, 1288, 2527]\n",
      "2569\n",
      "[0, 2, 4, 6, 9]\n",
      "[0.0216875 0.029125  0.0394375 0.04725   0.0718125 0.0805    0.1579375]\n"
     ]
    }
   ],
   "source": [
    "#Microphone 6\n",
    "\n",
    "plt.plot(rir_small[5][0])\n",
    "plt.show()\n",
    "\n",
    "peaks = []\n",
    "thresh = 0.014\n",
    "\n",
    "for i in range(len(rir_small[5][0])):\n",
    "    if(rir_small[5][0][i] > thresh):\n",
    "        peaks.append(i)\n",
    "print(peaks)\n",
    "print(len(rir_small[5][0]))\n",
    "\n",
    "peaks = np.array(peaks)\n",
    "\n",
    "idx = []\n",
    "for i in range(len(peaks) - 1):\n",
    "    if(peaks[i+1] - peaks[i] < 2):\n",
    "        idx.append(i)\n",
    "print(idx)\n",
    "\n",
    "peaks_del = np.delete(peaks, idx)\n",
    "    \n",
    "print(np.array(peaks_del)/16000)"
   ]
  },
  {
   "cell_type": "code",
   "execution_count": 12,
   "metadata": {},
   "outputs": [
    {
     "data": {
      "image/png": "[encoded data removed]",
      "text/plain": [
       "<Figure size 432x288 with 1 Axes>"
      ]
     },
     "metadata": {
      "needs_background": "light"
     },
     "output_type": "display_data"
    },
    {
     "name": "stdout",
     "output_type": "stream",
     "text": [
      "[461, 462, 595, 651, 726, 727, 765, 1860, 2419]\n",
      "2461\n",
      "[0, 4]\n",
      "[0.028875  0.0371875 0.0406875 0.0454375 0.0478125 0.11625   0.1511875]\n"
     ]
    }
   ],
   "source": [
    "#Microphone 7\n",
    "\n",
    "plt.plot(rir_small[6][0])\n",
    "plt.show()\n",
    "\n",
    "peaks = []\n",
    "thresh = 0.014\n",
    "\n",
    "for i in range(len(rir_small[6][0])):\n",
    "    if(rir_small[6][0][i] > thresh):\n",
    "        peaks.append(i)\n",
    "print(peaks)\n",
    "print(len(rir_small[6][0]))\n",
    "\n",
    "peaks = np.array(peaks)\n",
    "\n",
    "idx = []\n",
    "for i in range(len(peaks) - 1):\n",
    "    if(peaks[i+1] - peaks[i] < 2):\n",
    "        idx.append(i)\n",
    "print(idx)\n",
    "\n",
    "peaks_del = np.delete(peaks, idx)\n",
    "    \n",
    "print(np.array(peaks_del)/16000)"
   ]
  },
  {
   "cell_type": "code",
   "execution_count": 13,
   "metadata": {},
   "outputs": [
    {
     "data": {
      "image/png": "[encoded data removed]",
      "text/plain": [
       "<Figure size 432x288 with 1 Axes>"
      ]
     },
     "metadata": {
      "needs_background": "light"
     },
     "output_type": "display_data"
    },
    {
     "name": "stdout",
     "output_type": "stream",
     "text": [
      "[800, 919, 920, 979, 980, 984, 1089, 1911, 1944]\n",
      "1985\n",
      "[1, 3]\n",
      "[0.05      0.0575    0.06125   0.0615    0.0680625 0.1194375 0.1215   ]\n"
     ]
    }
   ],
   "source": [
    "#Microphone 8\n",
    "\n",
    "plt.plot(rir_small[7][0])\n",
    "plt.show()\n",
    "\n",
    "peaks = []\n",
    "thresh = 0.014\n",
    "\n",
    "for i in range(len(rir_small[7][0])):\n",
    "    if(rir_small[7][0][i] > thresh):\n",
    "        peaks.append(i)\n",
    "print(peaks)\n",
    "print(len(rir_small[7][0]))\n",
    "\n",
    "peaks = np.array(peaks)\n",
    "\n",
    "idx = []\n",
    "for i in range(len(peaks) - 1):\n",
    "    if(peaks[i+1] - peaks[i] < 2):\n",
    "        idx.append(i)\n",
    "print(idx)\n",
    "\n",
    "peaks_del = np.delete(peaks, idx)\n",
    "    \n",
    "print(np.array(peaks_del)/16000)"
   ]
  },
  {
   "cell_type": "code",
   "execution_count": 14,
   "metadata": {},
   "outputs": [
    {
     "data": {
      "image/png": "[encoded data removed]",
      "text/plain": [
       "<Figure size 432x288 with 1 Axes>"
      ]
     },
     "metadata": {
      "needs_background": "light"
     },
     "output_type": "display_data"
    },
    {
     "name": "stdout",
     "output_type": "stream",
     "text": [
      "[610, 611, 776, 777, 826, 827, 860, 861, 1249, 1377, 2182, 2183]\n",
      "2224\n",
      "[0, 2, 4, 6, 10]\n",
      "[0.0381875 0.0485625 0.0516875 0.0538125 0.0780625 0.0860625 0.1364375]\n"
     ]
    }
   ],
   "source": [
    "#Microphone 9\n",
    "\n",
    "plt.plot(rir_small[8][0])\n",
    "plt.show()\n",
    "\n",
    "peaks = []\n",
    "thresh = 0.010\n",
    "\n",
    "for i in range(len(rir_small[8][0])):\n",
    "    if(rir_small[8][0][i] > thresh):\n",
    "        peaks.append(i)\n",
    "print(peaks)\n",
    "print(len(rir_small[8][0]))\n",
    "\n",
    "peaks = np.array(peaks)\n",
    "\n",
    "idx = []\n",
    "for i in range(len(peaks) - 1):\n",
    "    if(peaks[i+1] - peaks[i] < 2):\n",
    "        idx.append(i)\n",
    "print(idx)\n",
    "\n",
    "peaks_del = np.delete(peaks, idx)\n",
    "    \n",
    "print(np.array(peaks_del)/16000)"
   ]
  },
  {
   "cell_type": "code",
   "execution_count": 15,
   "metadata": {},
   "outputs": [
    {
     "data": {
      "image/png": "[encoded data removed]",
      "text/plain": [
       "<Figure size 432x288 with 1 Axes>"
      ]
     },
     "metadata": {
      "needs_background": "light"
     },
     "output_type": "display_data"
    },
    {
     "name": "stdout",
     "output_type": "stream",
     "text": [
      "[857, 858, 959, 1044, 1147, 1245, 1701, 1836, 1837]\n",
      "1878\n",
      "[0, 7]\n",
      "[0.053625  0.0599375 0.06525   0.0716875 0.0778125 0.1063125 0.1148125]\n"
     ]
    }
   ],
   "source": [
    "#Microphone 10\n",
    "\n",
    "plt.plot(rir_small[9][0])\n",
    "plt.show()\n",
    "\n",
    "peaks = []\n",
    "thresh = 0.014\n",
    "\n",
    "for i in range(len(rir_small[9][0])):\n",
    "    if(rir_small[9][0][i] > thresh):\n",
    "        peaks.append(i)\n",
    "print(peaks)\n",
    "print(len(rir_small[9][0]))\n",
    "\n",
    "peaks = np.array(peaks)\n",
    "\n",
    "idx = []\n",
    "for i in range(len(peaks) - 1):\n",
    "    if(peaks[i+1] - peaks[i] < 2):\n",
    "        idx.append(i)\n",
    "print(idx)\n",
    "\n",
    "peaks_del = np.delete(peaks, idx)\n",
    "    \n",
    "print(np.array(peaks_del)/16000)"
   ]
  },
  {
   "cell_type": "code",
   "execution_count": 16,
   "metadata": {
    "scrolled": false
   },
   "outputs": [
    {
     "name": "stdout",
     "output_type": "stream",
     "text": [
      "2133\n",
      "2329\n",
      "2442\n",
      "2688\n",
      "2679\n",
      "2569\n",
      "2461\n",
      "1985\n",
      "2224\n",
      "1878\n"
     ]
    }
   ],
   "source": [
    "rir_done = []\n",
    "\n",
    "for i in range(10):\n",
    "    for row in rir_small[i]:\n",
    "        rir_done.append(row)\n",
    "        print(len(row))"
   ]
  },
  {
   "cell_type": "code",
   "execution_count": 17,
   "metadata": {
    "scrolled": false
   },
   "outputs": [],
   "source": [
    "out = []\n",
    "\n",
    "for i in range(10):\n",
    "    o = np.convolve(uni_white_noise, rir_done[i])\n",
    "    out.append(o)"
   ]
  },
  {
   "cell_type": "markdown",
   "metadata": {},
   "source": [
    "# OUTPUT SIGNAL TIMESTAMPS"
   ]
  },
  {
   "cell_type": "code",
   "execution_count": 25,
   "metadata": {
    "scrolled": false
   },
   "outputs": [
    {
     "data": {
      "image/png": "[encoded data removed]",
      "text/plain": [
       "<Figure size 432x288 with 1 Axes>"
      ]
     },
     "metadata": {
      "needs_background": "light"
     },
     "output_type": "display_data"
    },
    {
     "data": {
      "image/png": "[encoded data removed]",
      "text/plain": [
       "<Figure size 432x288 with 1 Axes>"
      ]
     },
     "metadata": {
      "needs_background": "light"
     },
     "output_type": "display_data"
    },
    {
     "name": "stdout",
     "output_type": "stream",
     "text": [
      "[1.826125, 1.8336875, 1.8366875, 1.84175, 1.85925, 1.877125, 1.91325]\n"
     ]
    }
   ],
   "source": [
    "#Microphone 1\n",
    "plt.plot(out[0][57040//2:31000])\n",
    "plt.show()\n",
    "\n",
    "plt.plot(out[1][57040//2:31000])\n",
    "plt.show()\n",
    "\n",
    "peaks = []\n",
    "thresh = 0.015\n",
    "\n",
    "for i in range(len(out[0])):\n",
    "    if(out[0][i] > thresh):\n",
    "        peaks.append(i)\n",
    "#print(peaks)\n",
    "        \n",
    "idx = []\n",
    "for i in range(len(peaks) - 1):\n",
    "    if(peaks[i+1] - peaks[i] < 2):\n",
    "        idx.append(i)\n",
    "        \n",
    "for i in range(len(idx)):\n",
    "    peaks.pop(idx[i])\n",
    "        \n",
    "for i in range(len(peaks)):\n",
    "    #peaks[i] = peaks[i] - (57040//2)#Centering at zero\n",
    "    peaks[i] = float(peaks[i])/16000 #Dividing by Sampling Frequency to get answers in seconds\n",
    "    \n",
    "print(peaks)"
   ]
  },
  {
   "cell_type": "code",
   "execution_count": 26,
   "metadata": {},
   "outputs": [
    {
     "data": {
      "image/png": "[encoded data removed]",
      "text/plain": [
       "<Figure size 432x288 with 1 Axes>"
      ]
     },
     "metadata": {
      "needs_background": "light"
     },
     "output_type": "display_data"
    },
    {
     "name": "stdout",
     "output_type": "stream",
     "text": [
      "[1.81125   1.822     1.8271875 1.829625  1.84625   1.8790625 1.9254375]\n"
     ]
    }
   ],
   "source": [
    "#Microphone 2\n",
    "plt.plot(out[1][57040//2:35000])\n",
    "plt.show()\n",
    "\n",
    "peaks = []\n",
    "thresh = 0.010\n",
    "\n",
    "for i in range(len(out[1])):\n",
    "    if(out[1][i] > thresh):\n",
    "        peaks.append(i)\n",
    "#print(peaks)\n",
    "\n",
    "peaks = np.array(peaks)\n",
    "\n",
    "idx = []\n",
    "for i in range(len(peaks) - 1):\n",
    "    if(peaks[i+1] - peaks[i] < 3):\n",
    "        idx.append(i)\n",
    "#print(idx)\n",
    "\n",
    "peaks_del = np.delete(peaks, idx)\n",
    "    \n",
    "print(np.array(peaks_del)/16000)"
   ]
  },
  {
   "cell_type": "code",
   "execution_count": 27,
   "metadata": {},
   "outputs": [
    {
     "data": {
      "image/png": "[encoded data removed]",
      "text/plain": [
       "<Figure size 432x288 with 1 Axes>"
      ]
     },
     "metadata": {
      "needs_background": "light"
     },
     "output_type": "display_data"
    },
    {
     "name": "stdout",
     "output_type": "stream",
     "text": [
      "[1.8040625 1.814375  1.82375   1.8264375 1.8365    1.884375  1.9325625]\n"
     ]
    }
   ],
   "source": [
    "#Microphone 3\n",
    "plt.plot(out[2][57040//2:35000])\n",
    "plt.show()\n",
    "\n",
    "peaks = []\n",
    "thresh = 0.010\n",
    "\n",
    "for i in range(len(out[2])):\n",
    "    if(out[2][i] > thresh):\n",
    "        peaks.append(i)\n",
    "#print(peaks)\n",
    "\n",
    "peaks = np.array(peaks)\n",
    "\n",
    "idx = []\n",
    "for i in range(len(peaks) - 1):\n",
    "    if(peaks[i+1] - peaks[i] < 3):\n",
    "        idx.append(i)\n",
    "#print(idx)\n",
    "\n",
    "peaks_del = np.delete(peaks, idx)\n",
    "    \n",
    "print(np.array(peaks_del)/16000)"
   ]
  },
  {
   "cell_type": "code",
   "execution_count": 29,
   "metadata": {},
   "outputs": [
    {
     "data": {
      "image/png": "[encoded data removed]",
      "text/plain": [
       "<Figure size 432x288 with 1 Axes>"
      ]
     },
     "metadata": {
      "needs_background": "light"
     },
     "output_type": "display_data"
    },
    {
     "name": "stdout",
     "output_type": "stream",
     "text": [
      "[1.803875  1.8078125 1.8191875 1.8275    1.828375  1.891     1.947875 ]\n"
     ]
    }
   ],
   "source": [
    "#Microphone 4\n",
    "plt.plot(out[3][57040//2:35000])\n",
    "plt.show()\n",
    "\n",
    "peaks = []\n",
    "thresh = 0.010\n",
    "\n",
    "for i in range(len(out[3])):\n",
    "    if(out[3][i] > thresh):\n",
    "        peaks.append(i)\n",
    "#print(peaks)\n",
    "\n",
    "peaks = np.array(peaks)\n",
    "\n",
    "idx = []\n",
    "for i in range(len(peaks) - 1):\n",
    "    if(peaks[i+1] - peaks[i] < 3):\n",
    "        idx.append(i)\n",
    "#print(idx)\n",
    "\n",
    "peaks_del = np.delete(peaks, idx)\n",
    "    \n",
    "print(np.array(peaks_del)/16000)"
   ]
  },
  {
   "cell_type": "code",
   "execution_count": 30,
   "metadata": {},
   "outputs": [
    {
     "data": {
      "image/png": "[encoded data removed]",
      "text/plain": [
       "<Figure size 432x288 with 1 Axes>"
      ]
     },
     "metadata": {
      "needs_background": "light"
     },
     "output_type": "display_data"
    },
    {
     "name": "stdout",
     "output_type": "stream",
     "text": [
      "[1.7986875 1.8039375 1.821625  1.8243125 1.8483125 1.8685625 1.947375 ]\n"
     ]
    }
   ],
   "source": [
    "#Microphone 5\n",
    "plt.plot(out[4][57040//2:35000])\n",
    "plt.show()\n",
    "\n",
    "peaks = []\n",
    "thresh = 0.010\n",
    "\n",
    "for i in range(len(out[4])):\n",
    "    if(out[4][i] > thresh):\n",
    "        peaks.append(i)\n",
    "#print(peaks)\n",
    "\n",
    "peaks = np.array(peaks)\n",
    "\n",
    "idx = []\n",
    "for i in range(len(peaks) - 1):\n",
    "    if(peaks[i+1] - peaks[i] < 3):\n",
    "        idx.append(i)\n",
    "#print(idx)\n",
    "\n",
    "peaks_del = np.delete(peaks, idx)\n",
    "    \n",
    "print(np.array(peaks_del)/16000)"
   ]
  },
  {
   "cell_type": "code",
   "execution_count": 31,
   "metadata": {},
   "outputs": [
    {
     "data": {
      "image/png": "[encoded data removed]",
      "text/plain": [
       "<Figure size 432x288 with 1 Axes>"
      ]
     },
     "metadata": {
      "needs_background": "light"
     },
     "output_type": "display_data"
    },
    {
     "name": "stdout",
     "output_type": "stream",
     "text": [
      "[1.8043125 1.81175   1.8219375 1.82975   1.8543125 1.863     1.9404375]\n"
     ]
    }
   ],
   "source": [
    "#Microphone 6\n",
    "plt.plot(out[5][57040//2:35000])\n",
    "plt.show()\n",
    "\n",
    "peaks = []\n",
    "thresh = 0.010\n",
    "\n",
    "for i in range(len(out[5])):\n",
    "    if(out[5][i] > thresh):\n",
    "        peaks.append(i)\n",
    "#print(peaks)\n",
    "\n",
    "peaks = np.array(peaks)\n",
    "\n",
    "idx = []\n",
    "for i in range(len(peaks) - 1):\n",
    "    if(peaks[i+1] - peaks[i] < 3):\n",
    "        idx.append(i)\n",
    "#print(idx)\n",
    "\n",
    "peaks_del = np.delete(peaks, idx)\n",
    "    \n",
    "print(np.array(peaks_del)/16000)"
   ]
  },
  {
   "cell_type": "code",
   "execution_count": 32,
   "metadata": {},
   "outputs": [
    {
     "data": {
      "image/png": "[encoded data removed]",
      "text/plain": [
       "<Figure size 432x288 with 1 Axes>"
      ]
     },
     "metadata": {
      "needs_background": "light"
     },
     "output_type": "display_data"
    },
    {
     "name": "stdout",
     "output_type": "stream",
     "text": [
      "[1.811375  1.8196875 1.8231875 1.8279375 1.8303125 1.89875   1.9336875]\n"
     ]
    }
   ],
   "source": [
    "#Microphone 7\n",
    "plt.plot(out[6][57040//2:35000])\n",
    "plt.show()\n",
    "\n",
    "peaks = []\n",
    "thresh = 0.010\n",
    "\n",
    "for i in range(len(out[6])):\n",
    "    if(out[6][i] > thresh):\n",
    "        peaks.append(i)\n",
    "#print(peaks)\n",
    "\n",
    "peaks = np.array(peaks)\n",
    "\n",
    "idx = []\n",
    "for i in range(len(peaks) - 1):\n",
    "    if(peaks[i+1] - peaks[i] < 3):\n",
    "        idx.append(i)\n",
    "#print(idx)\n",
    "\n",
    "peaks_del = np.delete(peaks, idx)\n",
    "    \n",
    "print(np.array(peaks_del)/16000)"
   ]
  },
  {
   "cell_type": "code",
   "execution_count": 33,
   "metadata": {},
   "outputs": [
    {
     "data": {
      "image/png": "[encoded data removed]",
      "text/plain": [
       "<Figure size 432x288 with 1 Axes>"
      ]
     },
     "metadata": {
      "needs_background": "light"
     },
     "output_type": "display_data"
    },
    {
     "name": "stdout",
     "output_type": "stream",
     "text": [
      "[1.8325    1.84      1.84375   1.844     1.8505625 1.902     1.904    ]\n"
     ]
    }
   ],
   "source": [
    "#Microphone 8\n",
    "plt.plot(out[7][57040//2:35000])\n",
    "plt.show()\n",
    "\n",
    "peaks = []\n",
    "thresh = 0.010\n",
    "\n",
    "for i in range(len(out[7])):\n",
    "    if(out[7][i] > thresh):\n",
    "        peaks.append(i)\n",
    "#print(peaks)\n",
    "\n",
    "peaks = np.array(peaks)\n",
    "\n",
    "idx = []\n",
    "for i in range(len(peaks) - 1):\n",
    "    if(peaks[i+1] - peaks[i] < 3):\n",
    "        idx.append(i)\n",
    "#print(idx)\n",
    "\n",
    "peaks_del = np.delete(peaks, idx)\n",
    "    \n",
    "print(np.array(peaks_del)/16000)"
   ]
  },
  {
   "cell_type": "code",
   "execution_count": 34,
   "metadata": {},
   "outputs": [
    {
     "data": {
      "image/png": "[encoded data removed]",
      "text/plain": [
       "<Figure size 432x288 with 1 Axes>"
      ]
     },
     "metadata": {
      "needs_background": "light"
     },
     "output_type": "display_data"
    },
    {
     "name": "stdout",
     "output_type": "stream",
     "text": [
      "[1.8206875 1.8310625 1.8341875 1.8363125 1.8605625 1.8685625 1.9189375]\n"
     ]
    }
   ],
   "source": [
    "#Microphone 9\n",
    "plt.plot(out[8][57040//2:35000])\n",
    "plt.show()\n",
    "\n",
    "peaks = []\n",
    "thresh = 0.010\n",
    "\n",
    "for i in range(len(out[8])):\n",
    "    if(out[8][i] > thresh):\n",
    "        peaks.append(i)\n",
    "#print(peaks)\n",
    "\n",
    "peaks = np.array(peaks)\n",
    "\n",
    "idx = []\n",
    "for i in range(len(peaks) - 1):\n",
    "    if(peaks[i+1] - peaks[i] < 3):\n",
    "        idx.append(i)\n",
    "#print(idx)\n",
    "\n",
    "peaks_del = np.delete(peaks, idx)\n",
    "    \n",
    "print(np.array(peaks_del)/16000)"
   ]
  },
  {
   "cell_type": "code",
   "execution_count": 35,
   "metadata": {},
   "outputs": [
    {
     "data": {
      "image/png": "[encoded data removed]",
      "text/plain": [
       "<Figure size 432x288 with 1 Axes>"
      ]
     },
     "metadata": {
      "needs_background": "light"
     },
     "output_type": "display_data"
    },
    {
     "name": "stdout",
     "output_type": "stream",
     "text": [
      "[1.836125  1.8424375 1.84775   1.8541875 1.8603125 1.8888125 1.8973125]\n"
     ]
    }
   ],
   "source": [
    "#Microphone 10\n",
    "plt.plot(out[9][57040//2:35000])\n",
    "plt.show()\n",
    "\n",
    "peaks = []\n",
    "thresh = 0.010\n",
    "\n",
    "for i in range(len(out[9])):\n",
    "    if(out[9][i] > thresh):\n",
    "        peaks.append(i)\n",
    "#print(peaks)\n",
    "\n",
    "peaks = np.array(peaks)\n",
    "\n",
    "idx = []\n",
    "for i in range(len(peaks) - 1):\n",
    "    if(peaks[i+1] - peaks[i] < 3):\n",
    "        idx.append(i)\n",
    "#print(idx)\n",
    "\n",
    "peaks_del = np.delete(peaks, idx)\n",
    "    \n",
    "print(np.array(peaks_del)/16000)"
   ]
  },
  {
   "cell_type": "code",
   "execution_count": 20,
   "metadata": {
    "scrolled": false
   },
   "outputs": [
    {
     "name": "stdout",
     "output_type": "stream",
     "text": [
      "59172\n",
      "59368\n"
     ]
    },
    {
     "data": {
      "image/png": "[encoded data removed]",
      "text/plain": [
       "<Figure size 432x288 with 1 Axes>"
      ]
     },
     "metadata": {
      "needs_background": "light"
     },
     "output_type": "display_data"
    }
   ],
   "source": [
    "print(len(out[0]))\n",
    "print(len(out[1]))\n",
    "ans = correlate(out[0],out[1],\"full\")\n",
    "ans2 = correlate(out[1], out[0], \"full\")\n",
    "\n",
    "plt.plot(ans)\n",
    "plt.show()"
   ]
  },
  {
   "cell_type": "code",
   "execution_count": 21,
   "metadata": {
    "scrolled": false
   },
   "outputs": [
    {
     "name": "stdout",
     "output_type": "stream",
     "text": [
      "[59605]\n",
      "[58933]\n"
     ]
    }
   ],
   "source": [
    "print(heapq.nlargest(1,range(len(ans)),ans.take))\n",
    "print(heapq.nlargest(1,range(len(ans2)), ans2.take))"
   ]
  },
  {
   "cell_type": "code",
   "execution_count": 22,
   "metadata": {
    "scrolled": true
   },
   "outputs": [
    {
     "name": "stdout",
     "output_type": "stream",
     "text": [
      "0\n",
      "1\n",
      "2\n",
      "3\n",
      "4\n",
      "5\n",
      "6\n",
      "7\n",
      "8\n",
      "9\n",
      "10\n",
      "11\n",
      "12\n",
      "13\n",
      "14\n",
      "15\n",
      "16\n",
      "17\n",
      "18\n",
      "19\n",
      "20\n",
      "21\n",
      "22\n",
      "23\n",
      "24\n",
      "25\n",
      "26\n",
      "27\n",
      "28\n",
      "29\n",
      "30\n",
      "31\n",
      "32\n",
      "33\n",
      "34\n",
      "35\n",
      "36\n",
      "37\n",
      "38\n",
      "39\n",
      "40\n",
      "41\n",
      "42\n",
      "43\n",
      "44\n",
      "45\n",
      "46\n",
      "47\n",
      "48\n",
      "49\n",
      "50\n",
      "51\n",
      "52\n",
      "53\n",
      "54\n",
      "55\n",
      "56\n",
      "57\n",
      "58\n",
      "59\n",
      "60\n",
      "61\n",
      "62\n",
      "63\n",
      "64\n",
      "65\n",
      "66\n",
      "67\n",
      "68\n",
      "69\n",
      "70\n",
      "71\n",
      "72\n",
      "73\n",
      "74\n",
      "75\n",
      "76\n",
      "77\n",
      "78\n",
      "79\n",
      "80\n",
      "81\n",
      "82\n",
      "83\n",
      "84\n",
      "85\n",
      "86\n",
      "87\n",
      "88\n",
      "89\n",
      "90\n",
      "91\n",
      "92\n",
      "93\n",
      "94\n",
      "95\n",
      "96\n",
      "97\n",
      "98\n",
      "99\n",
      "[[0.        3.7253125 3.7398125 3.75525   3.759875  3.747375  3.725125\n",
      "  3.6750625 3.7093125 3.67225  ]\n",
      " [3.6833125 0.        3.7249375 3.740375  3.7450625 3.7325    3.718625\n",
      "  3.6676875 3.6809375 3.657375 ]\n",
      " [3.675875  3.703     0.        3.7329375 3.7375625 3.7250625 3.711125\n",
      "  3.65275   3.687     3.6499375]\n",
      " [3.6758125 3.7029375 3.7174375 0.        3.7375    3.725     3.7151875\n",
      "  3.66425   3.6869375 3.649875 ]\n",
      " [3.670625  3.6976875 3.71225   3.7276875 0.        3.7198125 3.705875\n",
      "  3.6549375 3.68175   3.6383125]\n",
      " [3.67625   3.703375  3.717875  3.7333125 3.7379375 0.        3.7115625\n",
      "  3.6605625 3.687375  3.6503125]\n",
      " [3.69175   3.7105    3.7250625 3.736375  3.745125  3.7325625 0.\n",
      "  3.66775   3.6945625 3.651125 ]\n",
      " [3.7120625 3.7316875 3.7536875 3.7575625 3.7663125 3.7538125 3.739875\n",
      "  0.        3.71575   3.678625 ]\n",
      " [3.69275   3.733375  3.734375  3.7498125 3.7544375 3.7419375 3.728\n",
      "  3.6770625 0.        3.6668125]\n",
      " [3.7081875 3.7353125 3.7498125 3.76525   3.77625   3.757375  3.7498125\n",
      "  3.6925625 3.7193125 0.       ]]\n"
     ]
    }
   ],
   "source": [
    "tij = np.zeros((10,10))\n",
    "cnt = 0\n",
    "\n",
    "for i in range(10):\n",
    "    for j in range(10):\n",
    "        print(cnt)\n",
    "        cnt = cnt + 1\n",
    "        if(i == j):\n",
    "            continue\n",
    "        else:\n",
    "            ans = np.correlate(out[i],out[j],\"full\")\n",
    "            val = heapq.nlargest(1,range(len(ans)),ans.take)\n",
    "            tij[i][j] = val[0]/16000\n",
    "            \n",
    "print(abs(tij))"
   ]
  },
  {
   "cell_type": "code",
   "execution_count": null,
   "metadata": {
    "scrolled": false
   },
   "outputs": [],
   "source": []
  }
 ],
 "metadata": {
  "kernelspec": {
   "display_name": "Python 3",
   "language": "python",
   "name": "python3"
  },
  "language_info": {
   "codemirror_mode": {
    "name": "ipython",
    "version": 3
   },
   "file_extension": ".py",
   "mimetype": "text/x-python",
   "name": "python",
   "nbconvert_exporter": "python",
   "pygments_lexer": "ipython3",
   "version": "3.8.8"
  }
 },
 "nbformat": 4,
 "nbformat_minor": 4
}
